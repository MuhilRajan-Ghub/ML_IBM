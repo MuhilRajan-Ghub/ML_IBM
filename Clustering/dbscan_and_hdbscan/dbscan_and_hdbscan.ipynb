{
 "cells": [
  {
   "cell_type": "code",
   "execution_count": 1,
   "metadata": {},
   "outputs": [],
   "source": [
    "import numpy as np\n",
    "import pandas as pd\n",
    "import matplotlib.pyplot as plt"
   ]
  },
  {
   "cell_type": "code",
   "execution_count": 2,
   "metadata": {},
   "outputs": [
    {
     "name": "stdout",
     "output_type": "stream",
     "text": [
      "Downloaded and extracted: Canada.tif\n"
     ]
    }
   ],
   "source": [
    "import requests\n",
    "import zipfile\n",
    "import io\n",
    "import os\n",
    "\n",
    "# URL of the ZIP file on the cloud server\n",
    "zip_file_url = 'https://cf-courses-data.s3.us.cloud-object-storage.appdomain.cloud/YcUk-ytgrPkmvZAh5bf7zA/Canada.zip'\n",
    "\n",
    "# Directory to save the extracted TIFF file\n",
    "output_dir = './'\n",
    "os.makedirs(output_dir, exist_ok=True)\n",
    "\n",
    "# Step 1: Download the ZIP file\n",
    "response = requests.get(zip_file_url)\n",
    "response.raise_for_status()  # Ensure the request was successful\n",
    "# Step 2: Open the ZIP file in memory\n",
    "with zipfile.ZipFile(io.BytesIO(response.content)) as zip_ref:\n",
    "    # Step 3: Iterate over the files in the ZIP\n",
    "    for file_name in zip_ref.namelist():\n",
    "        if file_name.endswith('.tif'):  # Check if it's a TIFF file\n",
    "            # Step 4: Extract the TIFF file\n",
    "            zip_ref.extract(file_name, output_dir)\n",
    "            print(f\"Downloaded and extracted: {file_name}\")"
   ]
  }
 ],
 "metadata": {
  "kernelspec": {
   "display_name": ".venv",
   "language": "python",
   "name": "python3"
  },
  "language_info": {
   "codemirror_mode": {
    "name": "ipython",
    "version": 3
   },
   "file_extension": ".py",
   "mimetype": "text/x-python",
   "name": "python",
   "nbconvert_exporter": "python",
   "pygments_lexer": "ipython3",
   "version": "3.13.1"
  }
 },
 "nbformat": 4,
 "nbformat_minor": 2
}
